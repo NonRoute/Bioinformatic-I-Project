{
 "cells": [
  {
   "cell_type": "code",
   "execution_count": 1,
   "metadata": {},
   "outputs": [
    {
     "name": "stdout",
     "output_type": "stream",
     "text": [
      "34.75565433502197\n"
     ]
    }
   ],
   "source": [
    "import tracemalloc\n",
    " \n",
    "# code or function for which memory\n",
    "# has to be monitored\n",
    "def app():\n",
    "    lt = []\n",
    "    for i in range(0, 1000000):\n",
    "        lt.append(i)\n",
    " \n",
    "# starting the monitoring\n",
    "tracemalloc.start()\n",
    " \n",
    "# function call\n",
    "app()\n",
    " \n",
    "# displaying the memory\n",
    "print(tracemalloc.get_traced_memory()[1]/1024/1024)\n",
    " \n",
    "# stopping the library\n",
    "tracemalloc.stop()"
   ]
  },
  {
   "cell_type": "code",
   "execution_count": 12,
   "metadata": {},
   "outputs": [
    {
     "name": "stdout",
     "output_type": "stream",
     "text": [
      "Deletion from index 828 to 653\n",
      "Execute time: 18.167107582092285 s\n",
      "Current: 0.4666872024536133 MB, Peak: 0.4766654968261719 MB\n"
     ]
    }
   ],
   "source": [
    "from SVD_test_old_version import *\n",
    "import tracemalloc\n",
    "import time\n",
    "\n",
    "REF = 'ref'\n",
    "READ = 'read'\n",
    "INDEX = '01'\n",
    "REF += '_'+INDEX+'.txt'\n",
    "READ += '_'+INDEX+'.txt'\n",
    "\n",
    "tracemalloc.start()\n",
    "start_time = time.time()\n",
    "\n",
    "with open(REF) as f:\n",
    "    ref = f.read().splitlines()[0]\n",
    "with open(READ) as f:\n",
    "    reads = f.read().splitlines()\n",
    "\n",
    "data_list, normal_space = get_reads_maping_data(reads, ref)\n",
    "type_count, breakpoint = get_type_count(data_list, normal_space, ref)\n",
    "print(get_SV(type_count, breakpoint, ref))\n",
    "\n",
    "print('Execute time: {} s'.format(time.time()-start_time))\n",
    "current, peak = tracemalloc.get_traced_memory()\n",
    "print('Current: {} MB, Peak: {} MB'.format(current/1024/1024, peak/1024/1024))\n",
    "tracemalloc.stop()\n"
   ]
  }
 ],
 "metadata": {
  "kernelspec": {
   "display_name": "Python 3.10.6 64-bit",
   "language": "python",
   "name": "python3"
  },
  "language_info": {
   "codemirror_mode": {
    "name": "ipython",
    "version": 3
   },
   "file_extension": ".py",
   "mimetype": "text/x-python",
   "name": "python",
   "nbconvert_exporter": "python",
   "pygments_lexer": "ipython3",
   "version": "3.10.6"
  },
  "orig_nbformat": 4,
  "vscode": {
   "interpreter": {
    "hash": "b4cf07eda5cf2a744312844b7a52686a74df2c5e4198f208a8ef63cb52d67db2"
   }
  }
 },
 "nbformat": 4,
 "nbformat_minor": 2
}
