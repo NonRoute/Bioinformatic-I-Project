{
 "cells": [
  {
   "cell_type": "code",
   "execution_count": 12,
   "metadata": {},
   "outputs": [
    {
     "name": "stdout",
     "output_type": "stream",
     "text": [
      "35.036946296691895\n"
     ]
    }
   ],
   "source": [
    "import tracemalloc\n",
    " \n",
    "# code or function for which memory\n",
    "# has to be monitored\n",
    "def app():\n",
    "    lt = []\n",
    "    for i in range(0, 1000000):\n",
    "        lt.append(i)\n",
    " \n",
    "# starting the monitoring\n",
    "tracemalloc.start()\n",
    " \n",
    "# function call\n",
    "app()\n",
    " \n",
    "# displaying the memory\n",
    "print(tracemalloc.get_traced_memory()[1]/1024/1024)\n",
    " \n",
    "# stopping the library\n",
    "tracemalloc.stop()"
   ]
  },
  {
   "cell_type": "code",
   "execution_count": 50,
   "metadata": {},
   "outputs": [
    {
     "name": "stdout",
     "output_type": "stream",
     "text": [
      "Chromosomal translocation from index 96\n",
      "Execute time: 0.08527851104736328 s\n",
      "Current: 0.16004276275634766 MB, Peak: 0.17042255401611328 MB\n"
     ]
    }
   ],
   "source": [
    "from SVD import *\n",
    "import tracemalloc\n",
    "import time\n",
    "\n",
    "REF = 'ref'\n",
    "READ = 'read'\n",
    "INDEX = '01'\n",
    "REF += '_'+INDEX+'.txt'\n",
    "READ += '_'+INDEX+'.txt'\n",
    "\n",
    "tracemalloc.start()\n",
    "start_time = time.time()\n",
    "\n",
    "with open(REF) as f:\n",
    "    ref = f.read().splitlines()[0]\n",
    "with open(READ) as f:\n",
    "    reads = f.read().splitlines()\n",
    "\n",
    "data_list, normal_space = get_reads_maping_data(reads, ref)\n",
    "type_count, breakpoint = get_type_count(data_list, normal_space, ref)\n",
    "print(get_SV(type_count, breakpoint, ref))\n",
    "\n",
    "print('Execute time: {} s'.format(time.time()-start_time))\n",
    "current, peak = tracemalloc.get_traced_memory()\n",
    "print('Current: {} MB, Peak: {} MB'.format(current/1024/1024, peak/1024/1024))\n",
    "tracemalloc.stop()\n"
   ]
  }
 ],
 "metadata": {
  "kernelspec": {
   "display_name": "Python 3.9.12 ('base')",
   "language": "python",
   "name": "python3"
  },
  "language_info": {
   "codemirror_mode": {
    "name": "ipython",
    "version": 3
   },
   "file_extension": ".py",
   "mimetype": "text/x-python",
   "name": "python",
   "nbconvert_exporter": "python",
   "pygments_lexer": "ipython3",
   "version": "3.9.12"
  },
  "orig_nbformat": 4,
  "vscode": {
   "interpreter": {
    "hash": "c908c4af70fbc41d5289a7dd0cd650fc3b951c49876884c879a1066cafc8d6ff"
   }
  }
 },
 "nbformat": 4,
 "nbformat_minor": 2
}
